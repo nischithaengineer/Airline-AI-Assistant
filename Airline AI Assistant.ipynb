{
 "cells": [
  {
   "cell_type": "markdown",
   "metadata": {},
   "source": [
    "# Airline AI Assistant\n",
    "\n",
    "AI Customer Support assistant for an Airline"
   ]
  },
  {
   "cell_type": "code",
   "execution_count": 2,
   "metadata": {},
   "outputs": [
    {
     "name": "stderr",
     "output_type": "stream",
     "text": [
      "C:\\Users\\NISCHITHA\\AppData\\Local\\conda\\conda\\envs\\upgraded_py\\Lib\\site-packages\\tqdm\\auto.py:21: TqdmWarning: IProgress not found. Please update jupyter and ipywidgets. See https://ipywidgets.readthedocs.io/en/stable/user_install.html\n",
      "  from .autonotebook import tqdm as notebook_tqdm\n"
     ]
    }
   ],
   "source": [
    "import os\n",
    "import json\n",
    "from dotenv import load_dotenv\n",
    "from openai import OpenAI\n",
    "import gradio as gr"
   ]
  },
  {
   "cell_type": "code",
   "execution_count": 3,
   "metadata": {},
   "outputs": [
    {
     "name": "stdout",
     "output_type": "stream",
     "text": [
      "OpenAI API Key exists and begins sk-rxAUu\n"
     ]
    }
   ],
   "source": [
    "load_dotenv()\n",
    "\n",
    "openai_api_key = os.getenv('OPENAI_API_KEY')\n",
    "if openai_api_key:\n",
    "    print(f\"OpenAI API Key exists and begins {openai_api_key[:8]}\")\n",
    "else:\n",
    "    print(\"OpenAI API Key not set\")\n",
    "    \n",
    "MODEL = \"gpt-4o-mini\"\n",
    "openai = OpenAI()"
   ]
  },
  {
   "cell_type": "code",
   "execution_count": 4,
   "metadata": {},
   "outputs": [],
   "source": [
    "system_message = \"You are a helpful assistant for an Airline called FlightAI. \"\n",
    "system_message += \"Give short, courteous answers, no more than 1 sentence. \"\n",
    "system_message += \"Always be accurate. If you don't know the answer, say so.\""
   ]
  },
  {
   "cell_type": "code",
   "execution_count": 5,
   "metadata": {},
   "outputs": [],
   "source": [
    "ticket_prices = {\"london\": \"$799\", \"paris\": \"$899\", \"tokyo\": \"$1400\", \"berlin\": \"$499\"}\n",
    "\n",
    "def get_ticket_price(destination_city):\n",
    "    print(f\"Tool get_ticket_price called for {destination_city}\")\n",
    "    city = destination_city.lower()\n",
    "    return ticket_prices.get(city, \"Unknown\")"
   ]
  },
  {
   "cell_type": "code",
   "execution_count": 6,
   "metadata": {},
   "outputs": [
    {
     "name": "stdout",
     "output_type": "stream",
     "text": [
      "Tool get_ticket_price called for London\n"
     ]
    },
    {
     "data": {
      "text/plain": [
       "'$799'"
      ]
     },
     "execution_count": 6,
     "metadata": {},
     "output_type": "execute_result"
    }
   ],
   "source": [
    "get_ticket_price(\"London\")"
   ]
  },
  {
   "cell_type": "code",
   "execution_count": 7,
   "metadata": {},
   "outputs": [],
   "source": [
    "price_function = {\n",
    "    \"name\": \"get_ticket_price\",\n",
    "    \"description\": \"Get the price of a return ticket to the destination city. Call this whenever you need to know the ticket price, for example when a customer asks 'How much is a ticket to this city'\",\n",
    "    \"parameters\": {\n",
    "        \"type\": \"object\",\n",
    "        \"properties\": {\n",
    "            \"destination_city\": {\n",
    "                \"type\": \"string\",\n",
    "                \"description\": \"The city that the customer wants to travel to\",\n",
    "            },\n",
    "        },\n",
    "        \"required\": [\"destination_city\"],\n",
    "        \"additionalProperties\": False\n",
    "    }\n",
    "}"
   ]
  },
  {
   "cell_type": "code",
   "execution_count": 8,
   "metadata": {},
   "outputs": [],
   "source": [
    "tools = [{\"type\": \"function\", \"function\": price_function}]"
   ]
  },
  {
   "cell_type": "code",
   "execution_count": 9,
   "metadata": {},
   "outputs": [],
   "source": [
    "def handle_tool_call(message):\n",
    "    tool_call = message.tool_calls[0]\n",
    "    arguments = json.loads(tool_call.function.arguments)\n",
    "    city = arguments.get('destination_city')\n",
    "    price = get_ticket_price(city)\n",
    "    response = {\n",
    "        \"role\": \"tool\",\n",
    "        \"content\": json.dumps({\"destination_city\": city,\"price\": price}),\n",
    "        \"tool_call_id\": tool_call.id\n",
    "    }\n",
    "    return response, city"
   ]
  },
  {
   "cell_type": "code",
   "execution_count": 10,
   "metadata": {},
   "outputs": [],
   "source": [
    "import base64\n",
    "from io import BytesIO\n",
    "from PIL import Image"
   ]
  },
  {
   "cell_type": "code",
   "execution_count": 11,
   "metadata": {},
   "outputs": [],
   "source": [
    "def artist(city):\n",
    "    image_response = openai.images.generate(\n",
    "            model=\"dall-e-3\",\n",
    "            prompt=f\"An image representing a vacation in {city}, showing tourist spots and everything unique about {city}, in a vibrant pop-art style\",\n",
    "            size=\"1024x1024\",\n",
    "            n=1,\n",
    "            response_format=\"b64_json\",\n",
    "        )\n",
    "    image_base64 = image_response.data[0].b64_json\n",
    "    image_data = base64.b64decode(image_base64)\n",
    "    return Image.open(BytesIO(image_data))"
   ]
  },
  {
   "cell_type": "code",
   "execution_count": null,
   "metadata": {},
   "outputs": [],
   "source": [
    "image = artist(\"New York City\")\n",
    "display(image)"
   ]
  },
  {
   "cell_type": "code",
   "execution_count": 12,
   "metadata": {},
   "outputs": [
    {
     "name": "stdout",
     "output_type": "stream",
     "text": [
      "ffmpeg version 2024-12-26-git-fe04b93afa-full_build-www.gyan.dev Copyright (c) 2000-2024 the FFmpeg developers\n",
      "built with gcc 14.2.0 (Rev1, Built by MSYS2 project)\n",
      "configuration: --enable-gpl --enable-version3 --enable-static --disable-w32threads --disable-autodetect --enable-fontconfig --enable-iconv --enable-gnutls --enable-lcms2 --enable-libxml2 --enable-gmp --enable-bzlib --enable-lzma --enable-libsnappy --enable-zlib --enable-librist --enable-libsrt --enable-libssh --enable-libzmq --enable-avisynth --enable-libbluray --enable-libcaca --enable-sdl2 --enable-libaribb24 --enable-libaribcaption --enable-libdav1d --enable-libdavs2 --enable-libopenjpeg --enable-libquirc --enable-libuavs3d --enable-libxevd --enable-libzvbi --enable-libqrencode --enable-librav1e --enable-libsvtav1 --enable-libwebp --enable-libx264 --enable-libx265 --enable-libxavs2 --enable-libxeve --enable-libxvid --enable-libaom --enable-libjxl --enable-libvpx --enable-mediafoundation --enable-libass --enable-frei0r --enable-libfreetype --enable-libfribidi --enable-libharfbuzz --enable-liblensfun --enable-libvidstab --enable-libvmaf --enable-libzimg --enable-amf --enable-cuda-llvm --enable-cuvid --enable-dxva2 --enable-d3d11va --enable-d3d12va --enable-ffnvcodec --enable-libvpl --enable-nvdec --enable-nvenc --enable-vaapi --enable-libshaderc --enable-vulkan --enable-libplacebo --enable-opencl --enable-libcdio --enable-libgme --enable-libmodplug --enable-libopenmpt --enable-libopencore-amrwb --enable-libmp3lame --enable-libshine --enable-libtheora --enable-libtwolame --enable-libvo-amrwbenc --enable-libcodec2 --enable-libilbc --enable-libgsm --enable-liblc3 --enable-libopencore-amrnb --enable-libopus --enable-libspeex --enable-libvorbis --enable-ladspa --enable-libbs2b --enable-libflite --enable-libmysofa --enable-librubberband --enable-libsoxr --enable-chromaprint\n",
      "libavutil      59. 53.100 / 59. 53.100\n",
      "libavcodec     61. 28.100 / 61. 28.100\n",
      "libavformat    61.  9.101 / 61.  9.101\n",
      "libavdevice    61.  4.100 / 61.  4.100\n",
      "libavfilter    10.  6.101 / 10.  6.101\n",
      "libswscale      8. 13.100 /  8. 13.100\n",
      "libswresample   5.  4.100 /  5.  4.100\n",
      "libpostproc    58.  4.100 / 58.  4.100\n",
      "ffprobe version 2024-12-26-git-fe04b93afa-full_build-www.gyan.dev Copyright (c) 2007-2024 the FFmpeg developers\n",
      "built with gcc 14.2.0 (Rev1, Built by MSYS2 project)\n",
      "configuration: --enable-gpl --enable-version3 --enable-static --disable-w32threads --disable-autodetect --enable-fontconfig --enable-iconv --enable-gnutls --enable-lcms2 --enable-libxml2 --enable-gmp --enable-bzlib --enable-lzma --enable-libsnappy --enable-zlib --enable-librist --enable-libsrt --enable-libssh --enable-libzmq --enable-avisynth --enable-libbluray --enable-libcaca --enable-sdl2 --enable-libaribb24 --enable-libaribcaption --enable-libdav1d --enable-libdavs2 --enable-libopenjpeg --enable-libquirc --enable-libuavs3d --enable-libxevd --enable-libzvbi --enable-libqrencode --enable-librav1e --enable-libsvtav1 --enable-libwebp --enable-libx264 --enable-libx265 --enable-libxavs2 --enable-libxeve --enable-libxvid --enable-libaom --enable-libjxl --enable-libvpx --enable-mediafoundation --enable-libass --enable-frei0r --enable-libfreetype --enable-libfribidi --enable-libharfbuzz --enable-liblensfun --enable-libvidstab --enable-libvmaf --enable-libzimg --enable-amf --enable-cuda-llvm --enable-cuvid --enable-dxva2 --enable-d3d11va --enable-d3d12va --enable-ffnvcodec --enable-libvpl --enable-nvdec --enable-nvenc --enable-vaapi --enable-libshaderc --enable-vulkan --enable-libplacebo --enable-opencl --enable-libcdio --enable-libgme --enable-libmodplug --enable-libopenmpt --enable-libopencore-amrwb --enable-libmp3lame --enable-libshine --enable-libtheora --enable-libtwolame --enable-libvo-amrwbenc --enable-libcodec2 --enable-libilbc --enable-libgsm --enable-liblc3 --enable-libopencore-amrnb --enable-libopus --enable-libspeex --enable-libvorbis --enable-ladspa --enable-libbs2b --enable-libflite --enable-libmysofa --enable-librubberband --enable-libsoxr --enable-chromaprint\n",
      "libavutil      59. 53.100 / 59. 53.100\n",
      "libavcodec     61. 28.100 / 61. 28.100\n",
      "libavformat    61.  9.101 / 61.  9.101\n",
      "libavdevice    61.  4.100 / 61.  4.100\n",
      "libavfilter    10.  6.101 / 10.  6.101\n",
      "libswscale      8. 13.100 /  8. 13.100\n",
      "libswresample   5.  4.100 /  5.  4.100\n",
      "libpostproc    58.  4.100 / 58.  4.100\n",
      "ffplay version 2024-12-26-git-fe04b93afa-full_build-www.gyan.dev Copyright (c) 2003-2024 the FFmpeg developers\n",
      "built with gcc 14.2.0 (Rev1, Built by MSYS2 project)\n",
      "configuration: --enable-gpl --enable-version3 --enable-static --disable-w32threads --disable-autodetect --enable-fontconfig --enable-iconv --enable-gnutls --enable-lcms2 --enable-libxml2 --enable-gmp --enable-bzlib --enable-lzma --enable-libsnappy --enable-zlib --enable-librist --enable-libsrt --enable-libssh --enable-libzmq --enable-avisynth --enable-libbluray --enable-libcaca --enable-sdl2 --enable-libaribb24 --enable-libaribcaption --enable-libdav1d --enable-libdavs2 --enable-libopenjpeg --enable-libquirc --enable-libuavs3d --enable-libxevd --enable-libzvbi --enable-libqrencode --enable-librav1e --enable-libsvtav1 --enable-libwebp --enable-libx264 --enable-libx265 --enable-libxavs2 --enable-libxeve --enable-libxvid --enable-libaom --enable-libjxl --enable-libvpx --enable-mediafoundation --enable-libass --enable-frei0r --enable-libfreetype --enable-libfribidi --enable-libharfbuzz --enable-liblensfun --enable-libvidstab --enable-libvmaf --enable-libzimg --enable-amf --enable-cuda-llvm --enable-cuvid --enable-dxva2 --enable-d3d11va --enable-d3d12va --enable-ffnvcodec --enable-libvpl --enable-nvdec --enable-nvenc --enable-vaapi --enable-libshaderc --enable-vulkan --enable-libplacebo --enable-opencl --enable-libcdio --enable-libgme --enable-libmodplug --enable-libopenmpt --enable-libopencore-amrwb --enable-libmp3lame --enable-libshine --enable-libtheora --enable-libtwolame --enable-libvo-amrwbenc --enable-libcodec2 --enable-libilbc --enable-libgsm --enable-liblc3 --enable-libopencore-amrnb --enable-libopus --enable-libspeex --enable-libvorbis --enable-ladspa --enable-libbs2b --enable-libflite --enable-libmysofa --enable-librubberband --enable-libsoxr --enable-chromaprint\n",
      "libavutil      59. 53.100 / 59. 53.100\n",
      "libavcodec     61. 28.100 / 61. 28.100\n",
      "libavformat    61.  9.101 / 61.  9.101\n",
      "libavdevice    61.  4.100 / 61.  4.100\n",
      "libavfilter    10.  6.101 / 10.  6.101\n",
      "libswscale      8. 13.100 /  8. 13.100\n",
      "libswresample   5.  4.100 /  5.  4.100\n",
      "libpostproc    58.  4.100 / 58.  4.100\n"
     ]
    }
   ],
   "source": [
    "!ffmpeg -version\n",
    "!ffprobe -version\n",
    "!ffplay -version"
   ]
  },
  {
   "cell_type": "code",
   "execution_count": 14,
   "metadata": {},
   "outputs": [
    {
     "data": {
      "text/html": [
       "\n",
       "                <audio  controls=\"controls\" autoplay=\"autoplay\">\n",
       "                    <source src=\"data:audio/mpeg;base64,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\" type=\"audio/mpeg\" />\n",
       "                    Your browser does not support the audio element.\n",
       "                </audio>\n",
       "              "
      ],
      "text/plain": [
       "<IPython.lib.display.Audio object>"
      ]
     },
     "metadata": {},
     "output_type": "display_data"
    }
   ],
   "source": [
    "import base64\n",
    "from io import BytesIO\n",
    "from PIL import Image\n",
    "from IPython.display import Audio, display\n",
    "\n",
    "def talker(message):\n",
    "    response = openai.audio.speech.create(\n",
    "        model=\"tts-1\",\n",
    "        voice=\"onyx\",\n",
    "        input=message)\n",
    "\n",
    "    audio_stream = BytesIO(response.content)\n",
    "    output_filename = \"output_audio.mp3\"\n",
    "    with open(output_filename, \"wb\") as f:\n",
    "        f.write(audio_stream.read())\n",
    "\n",
    "    # Play the generated audio\n",
    "    display(Audio(output_filename, autoplay=True))\n",
    "\n",
    "talker(\"Well, hi there\")"
   ]
  },
  {
   "cell_type": "code",
   "execution_count": 15,
   "metadata": {},
   "outputs": [],
   "source": [
    "def chat(history):\n",
    "    messages = [{\"role\": \"system\", \"content\": system_message}] + history\n",
    "    response = openai.chat.completions.create(model=MODEL, messages=messages, tools=tools)\n",
    "    image = None\n",
    "    \n",
    "    if response.choices[0].finish_reason==\"tool_calls\":\n",
    "        message = response.choices[0].message\n",
    "        response, city = handle_tool_call(message)\n",
    "        messages.append(message)\n",
    "        messages.append(response)\n",
    "        image = artist(city)\n",
    "        response = openai.chat.completions.create(model=MODEL, messages=messages)\n",
    "        \n",
    "    reply = response.choices[0].message.content\n",
    "    history += [{\"role\":\"assistant\", \"content\":reply}]\n",
    "\n",
    "    # Comment out or delete the next line if you'd rather skip Audio for now..\n",
    "    talker(reply)\n",
    "    \n",
    "    return history, image"
   ]
  },
  {
   "cell_type": "code",
   "execution_count": 16,
   "metadata": {},
   "outputs": [
    {
     "name": "stdout",
     "output_type": "stream",
     "text": [
      "* Running on local URL:  http://127.0.0.1:7864\n",
      "\n",
      "To create a public link, set `share=True` in `launch()`.\n"
     ]
    },
    {
     "data": {
      "text/html": [
       "<div><iframe src=\"http://127.0.0.1:7864/\" width=\"100%\" height=\"500\" allow=\"autoplay; camera; microphone; clipboard-read; clipboard-write;\" frameborder=\"0\" allowfullscreen></iframe></div>"
      ],
      "text/plain": [
       "<IPython.core.display.HTML object>"
      ]
     },
     "metadata": {},
     "output_type": "display_data"
    },
    {
     "data": {
      "text/plain": []
     },
     "execution_count": 16,
     "metadata": {},
     "output_type": "execute_result"
    }
   ],
   "source": [
    "with gr.Blocks() as ui:\n",
    "    with gr.Row():\n",
    "        chatbot = gr.Chatbot(height=500, type=\"messages\")\n",
    "        image_output = gr.Image(height=500)\n",
    "    with gr.Row():\n",
    "        entry = gr.Textbox(label=\"Chat with our AI Assistant:\")\n",
    "    with gr.Row():\n",
    "        clear = gr.Button(\"Clear\")\n",
    "\n",
    "    def do_entry(message, history):\n",
    "        history += [{\"role\":\"user\", \"content\":message}]\n",
    "        return \"\", history\n",
    "\n",
    "    entry.submit(do_entry, inputs=[entry, chatbot], outputs=[entry, chatbot]).then(\n",
    "        chat, inputs=chatbot, outputs=[chatbot, image_output]\n",
    "    )\n",
    "    clear.click(lambda: None, inputs=None, outputs=chatbot, queue=False)\n",
    "\n",
    "ui.launch(inbrowser=True)"
   ]
  },
  {
   "cell_type": "code",
   "execution_count": null,
   "metadata": {},
   "outputs": [],
   "source": []
  }
 ],
 "metadata": {
  "kernelspec": {
   "display_name": "py3-kernel",
   "language": "python",
   "name": "py3-kernel"
  },
  "language_info": {
   "codemirror_mode": {
    "name": "ipython",
    "version": 3
   },
   "file_extension": ".py",
   "mimetype": "text/x-python",
   "name": "python",
   "nbconvert_exporter": "python",
   "pygments_lexer": "ipython3",
   "version": "3.11.7"
  }
 },
 "nbformat": 4,
 "nbformat_minor": 2
}
